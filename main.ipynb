{
 "cells": [
  {
   "cell_type": "markdown",
   "id": "07d54f2d",
   "metadata": {},
   "source": [
    "## Titanic Data"
   ]
  },
  {
   "cell_type": "code",
   "execution_count": null,
   "id": "18c84bc3",
   "metadata": {},
   "outputs": [],
   "source": []
  }
 ],
 "metadata": {
  "language_info": {
   "name": "python"
  }
 },
 "nbformat": 4,
 "nbformat_minor": 5
}
